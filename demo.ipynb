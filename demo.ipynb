{
 "cells": [
  {
   "cell_type": "code",
   "execution_count": 1,
   "metadata": {},
   "outputs": [],
   "source": [
    "# Section must be included at the beginning of each new notebook. Remember to change the app name. \n",
    "# If you're using VirtualBox, change the below to '/home/user/spark-2.1.1-bin-hadoop2.7'\n",
    "import findspark\n",
    "findspark.init('/home/ubuntu/spark-2.1.1-bin-hadoop2.7')\n",
    "import pyspark\n",
    "from pyspark.sql import SparkSession\n",
    "spark = SparkSession.builder.appName('demo').getOrCreate()"
   ]
  },
  {
   "cell_type": "code",
   "execution_count": 2,
   "metadata": {},
   "outputs": [],
   "source": [
    "# Load machine learning library\n",
    "from pyspark.ml.regression import LinearRegression"
   ]
  },
  {
   "cell_type": "code",
   "execution_count": 3,
   "metadata": {},
   "outputs": [],
   "source": [
    "df = spark.read.csv(\"data.csv\",inferSchema=True,header=True)"
   ]
  },
  {
   "cell_type": "code",
   "execution_count": 4,
   "metadata": {},
   "outputs": [
    {
     "name": "stdout",
     "output_type": "stream",
     "text": [
      "+--------+----------------+--------------------+----+---------+-----+------+-------+-------------+-------------+----------+--------+--------+\n",
      "|Visitors| UniquePageviews|                Date|Time|DayOfWeek|Month|Season|Weekend|SchoolHoliday|PublicHoliday|Cruiseship|EventInt|EventExt|\n",
      "+--------+----------------+--------------------+----+---------+-----+------+-------+-------------+-------------+----------+--------+--------+\n",
      "|    4364|           910.0|2016-03-24 00:00:...|   1|      Thu|  Mar|Autumn|      0|            0|            0|         0|       0|       0|\n",
      "|    8116|970.571428571429|2016-03-25 00:00:...|   2|      Fri|  Mar|Autumn|      0|            0|            1|         0|       0|       0|\n",
      "|    9268|972.714285714286|2016-03-26 00:00:...|   3|      Sat|  Mar|Autumn|      1|            0|            0|         0|       0|       0|\n",
      "|    8360|1009.28571428571|2016-03-27 00:00:...|   4|      Sun|  Mar|Autumn|      1|            0|            0|         0|       0|       0|\n",
      "|    6172|1033.28571428571|2016-03-28 00:00:...|   5|      Mon|  Mar|Autumn|      0|            0|            1|         0|       0|       0|\n",
      "|    4421|1013.28571428571|2016-03-29 00:00:...|   6|      Tue|  Mar|Autumn|      0|            0|            0|         1|       0|       0|\n",
      "|    3260|971.857142857143|2016-03-30 00:00:...|   7|      Wed|  Mar|Autumn|      0|            0|            0|         0|       0|       0|\n",
      "|    3460|916.714285714286|2016-03-31 00:00:...|   8|      Thu|  Mar|Autumn|      0|            0|            0|         0|       0|       0|\n",
      "|    4542|855.428571428572|2016-04-01 00:00:...|   9|      Fri|  Apr|Autumn|      0|            0|            0|         1|       0|       0|\n",
      "|    5444|858.857142857143|2016-04-02 00:00:...|  10|      Sat|  Apr|Autumn|      1|            0|            0|         0|       0|       0|\n",
      "+--------+----------------+--------------------+----+---------+-----+------+-------+-------------+-------------+----------+--------+--------+\n",
      "only showing top 10 rows\n",
      "\n"
     ]
    }
   ],
   "source": [
    "df.show(10)"
   ]
  },
  {
   "cell_type": "code",
   "execution_count": 5,
   "metadata": {},
   "outputs": [
    {
     "name": "stdout",
     "output_type": "stream",
     "text": [
      "+-------+------------------+------------------+-----------------+---------+-----+------+-------------------+-------------------+--------------------+-------------------+--------------------+--------------------+\n",
      "|summary|          Visitors|   UniquePageviews|             Time|DayOfWeek|Month|Season|            Weekend|      SchoolHoliday|       PublicHoliday|         Cruiseship|            EventInt|            EventExt|\n",
      "+-------+------------------+------------------+-----------------+---------+-----+------+-------------------+-------------------+--------------------+-------------------+--------------------+--------------------+\n",
      "|  count|               741|               741|              741|      741|  741|   741|                741|                741|                 741|                741|                 741|                 741|\n",
      "|   mean| 4335.429149797571| 959.9820705610164|            371.0|     null| null|  null|0.28609986504723345|  0.252361673414305|0.033738191632928474|0.19163292847503374|0.048582995951417005|0.037786774628879895|\n",
      "| stddev|1629.1594016922086|317.79702999003814|214.0525636379999|     null| null|  null| 0.4522419058035718|0.43466104699217195|  0.1806764511838803|0.39385160491996735| 0.21513984184318202| 0.19080898298302243|\n",
      "|    min|              1742|  474.571428571429|                1|      Fri|  Apr|Autumn|                  0|                  0|                   0|                  0|                   0|                   0|\n",
      "|    max|             10488|  2108.71428571429|              741|      Wed|  Sep|Winter|                  1|                  1|                   1|                  1|                   1|                   1|\n",
      "+-------+------------------+------------------+-----------------+---------+-----+------+-------------------+-------------------+--------------------+-------------------+--------------------+--------------------+\n",
      "\n"
     ]
    }
   ],
   "source": [
    "df.describe().show()"
   ]
  },
  {
   "cell_type": "code",
   "execution_count": 6,
   "metadata": {},
   "outputs": [
    {
     "name": "stdout",
     "output_type": "stream",
     "text": [
      "root\n",
      " |-- Visitors: integer (nullable = true)\n",
      " |-- UniquePageviews: double (nullable = true)\n",
      " |-- Date: timestamp (nullable = true)\n",
      " |-- Time: integer (nullable = true)\n",
      " |-- DayOfWeek: string (nullable = true)\n",
      " |-- Month: string (nullable = true)\n",
      " |-- Season: string (nullable = true)\n",
      " |-- Weekend: integer (nullable = true)\n",
      " |-- SchoolHoliday: integer (nullable = true)\n",
      " |-- PublicHoliday: integer (nullable = true)\n",
      " |-- Cruiseship: integer (nullable = true)\n",
      " |-- EventInt: integer (nullable = true)\n",
      " |-- EventExt: integer (nullable = true)\n",
      "\n"
     ]
    }
   ],
   "source": [
    "df.printSchema()"
   ]
  },
  {
   "cell_type": "code",
   "execution_count": 8,
   "metadata": {},
   "outputs": [
    {
     "name": "stdout",
     "output_type": "stream",
     "text": [
      "root\n",
      " |-- Visitors: integer (nullable = true)\n",
      " |-- UniquePageviews: double (nullable = true)\n",
      " |-- Date: timestamp (nullable = true)\n",
      " |-- Time: integer (nullable = true)\n",
      " |-- DayOfWeek: string (nullable = true)\n",
      " |-- Month: string (nullable = true)\n",
      " |-- Season: string (nullable = true)\n",
      " |-- Weekend: integer (nullable = true)\n",
      " |-- SchoolHoliday: integer (nullable = true)\n",
      " |-- PublicHoliday: integer (nullable = true)\n",
      " |-- Cruiseship: integer (nullable = true)\n",
      " |-- EventInt: integer (nullable = true)\n",
      " |-- EventExt: integer (nullable = true)\n",
      " |-- features: vector (nullable = true)\n",
      "\n"
     ]
    },
    {
     "data": {
      "text/plain": [
       "[Row(Visitors=4364, UniquePageviews=910.0, Date=datetime.datetime(2016, 3, 24, 0, 0), Time=1, DayOfWeek='Thu', Month='Mar', Season='Autumn', Weekend=0, SchoolHoliday=0, PublicHoliday=0, Cruiseship=0, EventInt=0, EventExt=0, features=SparseVector(7, {0: 910.0}))]"
      ]
     },
     "execution_count": 8,
     "metadata": {},
     "output_type": "execute_result"
    }
   ],
   "source": [
    "from pyspark.ml.feature import VectorAssembler\n",
    "vector_assembler = VectorAssembler(inputCols = ['UniquePageviews', 'Weekend', 'SchoolHoliday', 'PublicHoliday', 'Cruiseship', 'EventInt', 'EventExt'], outputCol = 'features')\n",
    "vector_output = vector_assembler.transform(df)\n",
    "vector_output.printSchema()\n",
    "vector_output.head(1)"
   ]
  },
  {
   "cell_type": "code",
   "execution_count": 10,
   "metadata": {},
   "outputs": [
    {
     "name": "stdout",
     "output_type": "stream",
     "text": [
      "[Row(features=SparseVector(7, {0: 910.0}), Visitors=4364)]\n",
      "+--------------------+--------+\n",
      "|            features|Visitors|\n",
      "+--------------------+--------+\n",
      "|     (7,[0],[910.0])|    4364|\n",
      "|(7,[0,3],[970.571...|    8116|\n",
      "|(7,[0,1],[972.714...|    9268|\n",
      "+--------------------+--------+\n",
      "only showing top 3 rows\n",
      "\n"
     ]
    }
   ],
   "source": [
    "vector_output = vector_output.select(['features', 'Visitors'])\n",
    "print(vector_output.head(1))\n",
    "vector_output.show(3)"
   ]
  },
  {
   "cell_type": "code",
   "execution_count": 11,
   "metadata": {},
   "outputs": [
    {
     "name": "stdout",
     "output_type": "stream",
     "text": [
      "+-------+------------------+\n",
      "|summary|          Visitors|\n",
      "+-------+------------------+\n",
      "|  count|               505|\n",
      "|   mean| 4326.487128712872|\n",
      "| stddev|1605.5404372260846|\n",
      "|    min|              1742|\n",
      "|    max|             10488|\n",
      "+-------+------------------+\n",
      "\n",
      "+-------+------------------+\n",
      "|summary|          Visitors|\n",
      "+-------+------------------+\n",
      "|  count|               236|\n",
      "|   mean| 4354.563559322034|\n",
      "| stddev|1681.8945624941175|\n",
      "|    min|              1793|\n",
      "|    max|              9786|\n",
      "+-------+------------------+\n",
      "\n"
     ]
    }
   ],
   "source": [
    "train_data,test_data = vector_output.randomSplit([0.7,0.3])\n",
    "train_data.describe().show()\n",
    "test_data.describe().show()"
   ]
  },
  {
   "cell_type": "code",
   "execution_count": 12,
   "metadata": {},
   "outputs": [
    {
     "name": "stdout",
     "output_type": "stream",
     "text": [
      "Coefficients: [1.5508237688515891,1678.7956823043933,948.2250467503707,1611.580140243226,1016.3187930137825,365.3362676879877,271.07443412730163]\n",
      "Intercept: 1857.5846109211857\n",
      "\n",
      "RMSE: 940.6778778763676\n",
      "R2: 0.6560461248673443\n"
     ]
    }
   ],
   "source": [
    "lr = LinearRegression(featuresCol='features', labelCol='Visitors')\n",
    "lr_model = lr.fit(train_data)\n",
    "print(\"Coefficients: \" + str(lr_model.coefficients))\n",
    "print(\"Intercept: \" + str(lr_model.intercept) + \"\\n\")\n",
    "training_summary = lr_model.summary\n",
    "print(\"RMSE: \" + str(training_summary.rootMeanSquaredError))\n",
    "print(\"R2: \" + str(training_summary.r2))"
   ]
  },
  {
   "cell_type": "code",
   "execution_count": 13,
   "metadata": {},
   "outputs": [
    {
     "name": "stdout",
     "output_type": "stream",
     "text": [
      "+-------+------------------+\n",
      "|summary|          Visitors|\n",
      "+-------+------------------+\n",
      "|  count|               505|\n",
      "|   mean| 4326.487128712872|\n",
      "| stddev|1605.5404372260846|\n",
      "|    min|              1742|\n",
      "|    max|             10488|\n",
      "+-------+------------------+\n",
      "\n"
     ]
    }
   ],
   "source": [
    "train_data.describe().show()"
   ]
  },
  {
   "cell_type": "code",
   "execution_count": 14,
   "metadata": {},
   "outputs": [
    {
     "name": "stdout",
     "output_type": "stream",
     "text": [
      "RMSE on test data: 949.2495001522431\n",
      "R2 on test data: 0.6801050663948449\n"
     ]
    }
   ],
   "source": [
    "test_results = lr_model.evaluate(test_data)\n",
    "print(\"RMSE on test data: \" + str(test_results.rootMeanSquaredError))\n",
    "print(\"R2 on test data: \" + str(test_results.r2))"
   ]
  },
  {
   "cell_type": "code",
   "execution_count": null,
   "metadata": {},
   "outputs": [],
   "source": []
  }
 ],
 "metadata": {
  "kernelspec": {
   "display_name": "Python 3",
   "language": "python",
   "name": "python3"
  },
  "language_info": {
   "codemirror_mode": {
    "name": "ipython",
    "version": 3
   },
   "file_extension": ".py",
   "mimetype": "text/x-python",
   "name": "python",
   "nbconvert_exporter": "python",
   "pygments_lexer": "ipython3",
   "version": "3.5.2"
  }
 },
 "nbformat": 4,
 "nbformat_minor": 2
}
