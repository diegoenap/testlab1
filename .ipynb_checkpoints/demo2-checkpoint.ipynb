{
 "cells": [
  {
   "cell_type": "code",
   "execution_count": 26,
   "metadata": {},
   "outputs": [],
   "source": [
    "# Section must be included at the beginning of each new notebook. Remember to change the app name. \n",
    "# If you're using VirtualBox, change the below to '/home/user/spark-2.1.1-bin-hadoop2.7'\n",
    "import findspark\n",
    "findspark.init('/home/ubuntu/spark-2.1.1-bin-hadoop2.7')\n",
    "import pyspark\n",
    "from pyspark.sql import SparkSession\n",
    "\n",
    "from pyspark.ml import Pipeline\n",
    "from pyspark.ml.regression import RandomForestRegressor\n",
    "from pyspark.ml.feature import StringIndexer\n",
    "from pyspark.ml.feature import VectorAssembler\n",
    "from pyspark.ml.feature import VectorIndexer\n",
    "from pyspark.ml.evaluation import RegressionEvaluator\n",
    "\n",
    "spark = SparkSession.builder.appName('demo2').getOrCreate()"
   ]
  },
  {
   "cell_type": "code",
   "execution_count": 27,
   "metadata": {},
   "outputs": [],
   "source": [
    "df = spark.read.csv(\"datadummies.csv\",inferSchema=True,header=True)"
   ]
  },
  {
   "cell_type": "code",
   "execution_count": 28,
   "metadata": {},
   "outputs": [
    {
     "data": {
      "text/plain": [
       "['Visitors',\n",
       " 'UniquePageviews',\n",
       " 'Date',\n",
       " 'Time',\n",
       " 'DayOfWeek',\n",
       " 'Month',\n",
       " 'Season',\n",
       " 'Weekend',\n",
       " 'SchoolHoliday',\n",
       " 'PublicHoliday',\n",
       " 'Cruiseship',\n",
       " 'EventInt',\n",
       " 'EventExt',\n",
       " 'DayMon',\n",
       " 'DayTue',\n",
       " 'DayWed',\n",
       " 'DayThu',\n",
       " 'DayFri',\n",
       " 'DaySat',\n",
       " 'DaySun',\n",
       " 'MonthJan',\n",
       " 'MonthFeb',\n",
       " 'MonthMar',\n",
       " 'MonthApr',\n",
       " 'MonthMay',\n",
       " 'MonthJun',\n",
       " 'MonthJul',\n",
       " 'MonthAug',\n",
       " 'MonthSep',\n",
       " 'MonthOct',\n",
       " 'MonthNov',\n",
       " 'MonthDec']"
      ]
     },
     "execution_count": 28,
     "metadata": {},
     "output_type": "execute_result"
    }
   ],
   "source": [
    "df.columns"
   ]
  },
  {
   "cell_type": "code",
   "execution_count": 30,
   "metadata": {},
   "outputs": [
    {
     "name": "stdout",
     "output_type": "stream",
     "text": [
      "+--------+----------------+--------------------+----+---------+-----+------+-------+-------------+-------------+----------+--------+--------+------+------+------+------+------+------+------+--------+--------+--------+--------+--------+--------+--------+--------+--------+--------+--------+--------+--------+\n",
      "|Visitors| UniquePageviews|                Date|Time|DayOfWeek|Month|Season|Weekend|SchoolHoliday|PublicHoliday|Cruiseship|EventInt|EventExt|DayMon|DayTue|DayWed|DayThu|DayFri|DaySat|DaySun|MonthJan|MonthFeb|MonthMar|MonthApr|MonthMay|MonthJun|MonthJul|MonthAug|MonthSep|MonthOct|MonthNov|MonthDec|MonthIdx|\n",
      "+--------+----------------+--------------------+----+---------+-----+------+-------+-------------+-------------+----------+--------+--------+------+------+------+------+------+------+------+--------+--------+--------+--------+--------+--------+--------+--------+--------+--------+--------+--------+--------+\n",
      "|    4364|           910.0|2016-03-24 00:00:...|   1|      Thu|  Mar|Autumn|      0|            0|            0|         0|       0|       0|     0|     0|     0|     1|     0|     0|     0|       0|       0|       1|       0|       0|       0|       0|       0|       0|       0|       0|       0|     0.0|\n",
      "|    8116|970.571428571429|2016-03-25 00:00:...|   2|      Fri|  Mar|Autumn|      0|            0|            1|         0|       0|       0|     0|     0|     0|     0|     1|     0|     0|       0|       0|       1|       0|       0|       0|       0|       0|       0|       0|       0|       0|     0.0|\n",
      "+--------+----------------+--------------------+----+---------+-----+------+-------+-------------+-------------+----------+--------+--------+------+------+------+------+------+------+------+--------+--------+--------+--------+--------+--------+--------+--------+--------+--------+--------+--------+--------+\n",
      "only showing top 2 rows\n",
      "\n"
     ]
    }
   ],
   "source": [
    "#featureIdx = VectorIndexer(inputCol=['UniquePageviews', 'Weekend', 'Month', 'SchoolHoliday', 'PublicHoliday', 'Cruiseship', 'EventInt', 'EventExt'], outputCol='indexedFeatures', maxCategories=12).fit(df)\n",
    "\n",
    "\n",
    "strindexer = StringIndexer(inputCol='Month', outputCol='MonthIdx')\n",
    "dfidx = strindexer.fit(df).transform(df)\n",
    "dfidx.show(2)"
   ]
  },
  {
   "cell_type": "code",
   "execution_count": 37,
   "metadata": {},
   "outputs": [],
   "source": [
    "df_va = VectorAssembler(inputCols=['UniquePageviews', 'Weekend', 'MonthIdx', 'SchoolHoliday', 'PublicHoliday', 'Cruiseship', 'EventInt', 'EventExt'], outputCol='indexedFeatures').transform(dfidx)\n",
    "finaldf = df_va.select(['indexedFeatures', 'Visitors'])"
   ]
  },
  {
   "cell_type": "code",
   "execution_count": 38,
   "metadata": {},
   "outputs": [
    {
     "data": {
      "text/plain": [
       "[Row(indexedFeatures=SparseVector(8, {0: 910.0}), Visitors=4364)]"
      ]
     },
     "execution_count": 38,
     "metadata": {},
     "output_type": "execute_result"
    }
   ],
   "source": [
    "finaldf.head(1)"
   ]
  },
  {
   "cell_type": "code",
   "execution_count": 39,
   "metadata": {},
   "outputs": [
    {
     "name": "stdout",
     "output_type": "stream",
     "text": [
      "+--------------------+--------+\n",
      "|     indexedFeatures|Visitors|\n",
      "+--------------------+--------+\n",
      "|     (8,[0],[910.0])|    4364|\n",
      "|(8,[0,4],[970.571...|    8116|\n",
      "|(8,[0,1],[972.714...|    9268|\n",
      "|(8,[0,1],[1009.28...|    8360|\n",
      "|(8,[0,4],[1033.28...|    6172|\n",
      "|(8,[0,5],[1013.28...|    4421|\n",
      "|(8,[0],[971.85714...|    3260|\n",
      "|(8,[0],[916.71428...|    3460|\n",
      "|(8,[0,2,5],[855.4...|    4542|\n",
      "|(8,[0,1,2],[858.8...|    5444|\n",
      "+--------------------+--------+\n",
      "only showing top 10 rows\n",
      "\n"
     ]
    }
   ],
   "source": [
    "finaldf.show(10)"
   ]
  },
  {
   "cell_type": "code",
   "execution_count": 42,
   "metadata": {},
   "outputs": [],
   "source": [
    "(trainingData, testData) = finaldf.randomSplit([0.7, 0.3])\n",
    "rf = RandomForestRegressor(featuresCol=\"indexedFeatures\", labelCol=\"Visitors\")\n",
    "pipeline = Pipeline(stages=[rf])"
   ]
  },
  {
   "cell_type": "code",
   "execution_count": 43,
   "metadata": {},
   "outputs": [],
   "source": [
    "# This creates a pipeline model (transformer)\n",
    "model = pipeline.fit(trainingData)"
   ]
  },
  {
   "cell_type": "code",
   "execution_count": 46,
   "metadata": {},
   "outputs": [
    {
     "name": "stdout",
     "output_type": "stream",
     "text": [
      "+------------------+--------+--------------------+\n",
      "|        prediction|Visitors|     indexedFeatures|\n",
      "+------------------+--------+--------------------+\n",
      "| 3906.236848540689|    3762|(8,[0],[782.42857...|\n",
      "| 3999.119407159606|    4295|(8,[0],[918.42857...|\n",
      "|  4338.24869607774|    3676|     (8,[0],[965.0])|\n",
      "|4367.6997487762055|    3650|(8,[0],[1023.7142...|\n",
      "|4472.2305566846535|    3267|(8,[0],[1101.5714...|\n",
      "+------------------+--------+--------------------+\n",
      "only showing top 5 rows\n",
      "\n"
     ]
    }
   ],
   "source": [
    "# Use the pipeline model (transformer) to transform the test dataset addint predictions\n",
    "predictions = model.transform(testData)\n",
    "predictions.columns\n",
    "\n",
    "# Separate new columns\n",
    "predictions.select(\"prediction\", \"Visitors\", \"indexedFeatures\").show(5)"
   ]
  },
  {
   "cell_type": "code",
   "execution_count": 48,
   "metadata": {},
   "outputs": [
    {
     "name": "stdout",
     "output_type": "stream",
     "text": [
      "Root Mean Squared Error (RMSE) on test data = 765.505\n"
     ]
    }
   ],
   "source": [
    "# Evaluate the model based on the predictions\n",
    "evaluator = RegressionEvaluator(\n",
    "    labelCol=\"Visitors\", predictionCol=\"prediction\", metricName=\"rmse\")\n",
    "rmse = evaluator.evaluate(predictions)\n",
    "print(\"Root Mean Squared Error (RMSE) on test data = %g\" % rmse)"
   ]
  },
  {
   "cell_type": "code",
   "execution_count": 50,
   "metadata": {},
   "outputs": [
    {
     "name": "stdout",
     "output_type": "stream",
     "text": [
      "RandomForestRegressionModel (uid=rfr_a7108f13a682) with 20 trees\n"
     ]
    }
   ],
   "source": [
    "rfModel = model.stages[0]\n",
    "print(rfModel)"
   ]
  },
  {
   "cell_type": "code",
   "execution_count": null,
   "metadata": {},
   "outputs": [],
   "source": []
  }
 ],
 "metadata": {
  "kernelspec": {
   "display_name": "Python 3",
   "language": "python",
   "name": "python3"
  },
  "language_info": {
   "codemirror_mode": {
    "name": "ipython",
    "version": 3
   },
   "file_extension": ".py",
   "mimetype": "text/x-python",
   "name": "python",
   "nbconvert_exporter": "python",
   "pygments_lexer": "ipython3",
   "version": "3.5.2"
  }
 },
 "nbformat": 4,
 "nbformat_minor": 2
}
